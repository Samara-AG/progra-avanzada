{
 "cells": [
  {
   "cell_type": "code",
   "execution_count": 3,
   "metadata": {},
   "outputs": [],
   "source": [
    "class Persona():\n",
    "    def __init__(self, nombre):\n",
    "        self.nombre=nombre"
   ]
  },
  {
   "cell_type": "code",
   "execution_count": 4,
   "metadata": {},
   "outputs": [],
   "source": [
    "class Cliente(Persona):\n",
    "    def __init__(self, nombre):\n",
    "        super().__init__(nombre)\n",
    "        self.historial = []\n",
    "\n",
    "    def realizar_pedido(self, pedido):\n",
    "        self.historial.append(pedido)\n",
    "        print(f\"{self.nombre} ha realizado un nuevo pedido.\")\n",
    "\n",
    "    def consultar_historial(self):\n",
    "        print(f\"Historial de pedidos de {self.nombre}:\")\n",
    "        for i, pedido in enumerate(self.historial, 1):\n",
    "            print(f\"{i}. {pedido}\")"
   ]
  },
  {
   "cell_type": "code",
   "execution_count": 5,
   "metadata": {},
   "outputs": [],
   "source": [
    "class Empleado(Persona):\n",
    "    def __init__(self, nombre, rol):\n",
    "        super().__init__(nombre)\n",
    "        self.rol = rol"
   ]
  },
  {
   "cell_type": "code",
   "execution_count": 6,
   "metadata": {},
   "outputs": [],
   "source": [
    "class ProductoBase:\n",
    "    def __init__(self, nombre, precio):\n",
    "        self.nombre = nombre\n",
    "        self.precio = precio\n",
    "\n",
    "    def __str__(self):\n",
    "        return f\"{self.nombre} - ${self.precio}\""
   ]
  },
  {
   "cell_type": "code",
   "execution_count": 7,
   "metadata": {},
   "outputs": [],
   "source": [
    "class Bebida(ProductoBase):\n",
    "    def __init__(self, nombre, precio, tamaño, tipo, opciones=None):\n",
    "        super().__init__(nombre, precio)\n",
    "        self.tamaño = tamaño\n",
    "        self.tipo = tipo\n",
    "        self.opciones = opciones or []\n",
    "\n",
    "    def __str__(self):\n",
    "        opciones_str = \", \".join(self.opciones) if self.opciones else \"Ninguna\"\n",
    "        return f\"Bebida: {self.nombre} ({self.tipo}, {self.tamaño}) - Opciones: {opciones_str} - ${self.precio}\""
   ]
  },
  {
   "cell_type": "code",
   "execution_count": 8,
   "metadata": {},
   "outputs": [],
   "source": [
    "class Postre(ProductoBase):\n",
    "    def __init__(self, nombre, precio, es_vegano=False, sin_gluten=False):\n",
    "        super().__init__(nombre, precio)\n",
    "        self.es_vegano = es_vegano\n",
    "        self.sin_gluten = sin_gluten\n",
    "\n",
    "    def __str__(self):\n",
    "        caracteristicas = []\n",
    "        if self.es_vegano:\n",
    "            caracteristicas.append(\"Vegano\")\n",
    "        if self.sin_gluten:\n",
    "            caracteristicas.append(\"Sin gluten\")\n",
    "        descripcion = \", \".join(caracteristicas) if caracteristicas else \"Regular\"\n",
    "        return f\"Postre: {self.nombre} ({descripcion}) - ${self.precio}\""
   ]
  },
  {
   "cell_type": "code",
   "execution_count": 9,
   "metadata": {},
   "outputs": [],
   "source": [
    "# Clase Inventario\n",
    "class Inventario:\n",
    "    def __init__(self):\n",
    "        self.ingredientes = {}\n",
    "\n",
    "    def agregar_ingredientes(self, nombre, cantidad):\n",
    "        self.ingredientes[nombre] = self.ingredientes.get(nombre, 0) + cantidad\n",
    "        print(f\"Se agregaron {cantidad} de {nombre} al inventario.\")\n",
    "\n",
    "    def verificar_disponibilidad(self, ingredientes_necesarios):\n",
    "        for ingrediente, cantidad in ingredientes_necesarios.items():\n",
    "            if self.ingredientes.get(ingrediente, 0) < cantidad:\n",
    "                return False\n",
    "        return True\n",
    "\n",
    "    def usar_ingredientes(self, ingredientes_necesarios):\n",
    "        if self.verificar_disponibilidad(ingredientes_necesarios):\n",
    "            for ingrediente, cantidad in ingredientes_necesarios.items():\n",
    "                self.ingredientes[ingrediente] -= cantidad\n",
    "            print(\"Ingredientes usados correctamente.\")\n",
    "            return True\n",
    "        print(\"No hay suficientes ingredientes en el inventario.\")\n",
    "        return False\n"
   ]
  },
  {
   "cell_type": "code",
   "execution_count": 10,
   "metadata": {},
   "outputs": [],
   "source": [
    "# Clase Pedido\n",
    "class Pedido:\n",
    "    def __init__(self, cliente):\n",
    "        self.cliente = cliente\n",
    "        self.productos = []\n",
    "        self.total = 0\n",
    "        self.estado = \"Pendiente\"\n",
    "\n",
    "    def agregar_producto(self, producto, inventario, ingredientes_necesarios={}):\n",
    "        if self.estado == \"Rechazado\":\n",
    "            print(\"Este pedido ha sido rechazado, no se pueden agregar más productos.\")\n",
    "            return\n",
    "        \n",
    "        if inventario.usar_ingredientes(ingredientes_necesarios):\n",
    "            self.productos.append(producto)\n",
    "            self.total += producto.precio\n",
    "            print(f\"Producto {producto.nombre} agregado al pedido de {self.cliente.nombre}.\")\n",
    "        else:\n",
    "            print(f\"No se pudo agregar {producto.nombre} por falta de ingredientes.\")\n",
    "            self.estado = \"Rechazado\"\n",
    "\n",
    "    def cambiar_estado(self, nuevo_estado):\n",
    "        self.estado = nuevo_estado\n",
    "        print(f\"El estado del pedido ha cambiado a: {nuevo_estado}\")\n",
    "\n",
    "    def entregar_pedido(self):\n",
    "        if self.estado == \"Pendiente\" and self.productos:\n",
    "            self.estado = \"Entregado\"\n",
    "            print(f\"El pedido de {self.cliente.nombre} ha sido entregado.\")\n",
    "        else:\n",
    "            print(\"El pedido no se puede entregar porque no está completo o ya fue rechazado.\")\n",
    "\n",
    "    def __str__(self):\n",
    "        productos_str = \", \".join(f\"{p.nombre}: ${p.precio}\" for p in self.productos)\n",
    "        return f\"Pedido de {self.cliente.nombre} - Estado: {self.estado}\\nProductos: {productos_str}\\nTotal: ${self.total}\"\n"
   ]
  },
  {
   "cell_type": "code",
   "execution_count": 11,
   "metadata": {},
   "outputs": [],
   "source": [
    "# Clase Promocion\n",
    "class Promocion:\n",
    "    def __init__(self, descripcion, descuento):\n",
    "        self.descripcion = descripcion\n",
    "        self.descuento = descuento\n",
    "\n",
    "    def aplica_descuento(self, pedido):\n",
    "        descuento_aplicado = pedido.total * (self.descuento / 100)\n",
    "        pedido.total -= descuento_aplicado\n",
    "        print(f\"Se aplicó la promoción: {self.descripcion} - Descuento: ${descuento_aplicado:.2f}\")\n"
   ]
  },
  {
   "cell_type": "code",
   "execution_count": 12,
   "metadata": {},
   "outputs": [
    {
     "name": "stdout",
     "output_type": "stream",
     "text": [
      "Se agregaron 10 de Leche al inventario.\n",
      "Se agregaron 15 de Café al inventario.\n",
      "Se agregaron 8 de Azúcar al inventario.\n",
      "Ingredientes usados correctamente.\n",
      "Producto Café Latte agregado al pedido de Ana Pérez.\n",
      "Ingredientes usados correctamente.\n",
      "Producto Brownie agregado al pedido de Ana Pérez.\n",
      "Pedido de Ana Pérez - Estado: Pendiente\n",
      "Productos: Café Latte: $50, Brownie: $35\n",
      "Total: $85\n",
      "Se aplicó la promoción: Descuento para clientes frecuentes - Descuento: $8.50\n",
      "Pedido de Ana Pérez - Estado: Pendiente\n",
      "Productos: Café Latte: $50, Brownie: $35\n",
      "Total: $76.5\n",
      "El estado del pedido ha cambiado a: En preparación\n",
      "El estado del pedido ha cambiado a: Entregado\n",
      "Ana Pérez ha realizado un nuevo pedido.\n",
      "Historial de pedidos de Ana Pérez:\n",
      "1. Pedido de Ana Pérez - Estado: Entregado\n",
      "Productos: Café Latte: $50, Brownie: $35\n",
      "Total: $76.5\n"
     ]
    }
   ],
   "source": [
    "# Creación del inventario y adición de ingredientes\n",
    "inventario = Inventario()\n",
    "inventario.agregar_ingredientes(\"Leche\", 10)\n",
    "inventario.agregar_ingredientes(\"Café\", 15)\n",
    "inventario.agregar_ingredientes(\"Azúcar\", 8)\n",
    "\n",
    "# Creación de cliente y empleado\n",
    "cliente1 = Cliente(\"Ana Pérez\")\n",
    "empleado1 = Empleado(\"Luis Martínez\", \"Barista\")\n",
    "\n",
    "# Creación de productos\n",
    "bebida1 = Bebida(\"Café Latte\", 50, \"Mediano\", \"Caliente\", [\"Leche de almendra\", \"Sin azúcar\"])\n",
    "postre1 = Postre(\"Brownie\", 35, es_vegano=False, sin_gluten=True)\n",
    "\n",
    "# Creación de un pedido y adición de productos\n",
    "pedido1 = Pedido(cliente1)\n",
    "pedido1.agregar_producto(bebida1, inventario, {\"Leche\": 1, \"Café\": 1})\n",
    "pedido1.agregar_producto(postre1, inventario)\n",
    "\n",
    "# Imprimir pedido antes del descuento\n",
    "print(pedido1)\n",
    "\n",
    "# Aplicar promoción y descuento\n",
    "promo1 = Promocion(\"Descuento para clientes frecuentes\", 10)\n",
    "promo1.aplica_descuento(pedido1)\n",
    "\n",
    "# Imprimir pedido después del descuento\n",
    "print(pedido1)\n",
    "\n",
    "# Cambio de estado del pedido\n",
    "pedido1.cambiar_estado(\"En preparación\")\n",
    "pedido1.cambiar_estado(\"Entregado\")\n",
    "\n",
    "# Registrar pedido en historial del cliente\n",
    "cliente1.realizar_pedido(pedido1)\n",
    "cliente1.consultar_historial()\n"
   ]
  }
 ],
 "metadata": {
  "kernelspec": {
   "display_name": "Python 3",
   "language": "python",
   "name": "python3"
  },
  "language_info": {
   "codemirror_mode": {
    "name": "ipython",
    "version": 3
   },
   "file_extension": ".py",
   "mimetype": "text/x-python",
   "name": "python",
   "nbconvert_exporter": "python",
   "pygments_lexer": "ipython3",
   "version": "3.13.2"
  }
 },
 "nbformat": 4,
 "nbformat_minor": 2
}
