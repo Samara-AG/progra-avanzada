{
 "cells": [
  {
   "cell_type": "code",
   "execution_count": 17,
   "metadata": {},
   "outputs": [],
   "source": [
    "# Clase base Material\n",
    "class Material:\n",
    "    def __init__(self, titulo, estado=\"disponible\"):\n",
    "        self.titulo = titulo\n",
    "        self.estado = estado  # \"disponible\" o \"prestado\"\n",
    "    \n",
    "    def cambiar_estado(self, nuevo_estado):\n",
    "        self.estado = nuevo_estado\n",
    "\n",
    "# Libro\n",
    "class Libro(Material):\n",
    "    def __init__(self, titulo, autor, genero, estado=\"disponible\"):\n",
    "        super().__init__(titulo, estado)\n",
    "        self.autor = autor\n",
    "        self.genero = genero\n",
    "\n",
    "# Revista\n",
    "class Revista(Material):\n",
    "    def __init__(self, titulo, edicion, periodicidad, estado=\"disponible\"):\n",
    "        super().__init__(titulo, estado)\n",
    "        self.edicion = edicion\n",
    "        self.periodicidad = periodicidad\n",
    "\n",
    "# MaterialDigital\n",
    "class MaterialDigital(Material):\n",
    "    def __init__(self, titulo, tipo_archivo, enlace_descarga, estado=\"disponible\"):\n",
    "        super().__init__(titulo, estado)\n",
    "        self.tipo_archivo = tipo_archivo\n",
    "        self.enlace_descarga = enlace_descarga\n"
   ]
  },
  {
   "cell_type": "code",
   "execution_count": 18,
   "metadata": {},
   "outputs": [],
   "source": [
    "# Clase base Persona\n",
    "class Persona:\n",
    "    def __init__(self, nombre):\n",
    "        self.nombre = nombre\n",
    "\n",
    "# Usuario\n",
    "class Usuario(Persona):\n",
    "    def __init__(self, nombre):\n",
    "        super().__init__(nombre)\n",
    "        self.materiales_prestados = []\n",
    "        self.penalizaciones = []  # Se agrega la lista de penalizaciones\n",
    "\n",
    "    def consultar_catalogo(self, catalogo):\n",
    "        return catalogo.buscar_materiales()\n",
    "\n",
    "    def devolver_material(self, material):\n",
    "        if material in self.materiales_prestados:\n",
    "            self.materiales_prestados.remove(material)\n",
    "            material.cambiar_estado(\"disponible\")\n",
    "            print(f\"{self.nombre} ha devuelto {material.titulo}.\")\n",
    "        else:\n",
    "            print(f\"{self.nombre} no tiene {material.titulo} en préstamo.\")\n",
    "\n",
    "\n",
    "# Bibliotecario\n",
    "class Bibliotecario(Persona):\n",
    "    def __init__(self, nombre):\n",
    "        super().__init__(nombre)\n",
    "    \n",
    "    def agregar_material(self, material, sucursal):\n",
    "        sucursal.catalogo.agregar_material(material)\n",
    "        print(f\"{self.nombre} ha agregado {material.titulo} a la sucursal {sucursal.nombre}.\")\n",
    "    \n",
    "    def gestionar_prestamo(self, usuario, material, sucursal):\n",
    "        if material.estado == \"disponible\":\n",
    "            material.cambiar_estado(\"prestado\")\n",
    "            usuario.materiales_prestados.append(material)\n",
    "            print(f\"{self.nombre} ha prestado {material.titulo} a {usuario.nombre}.\")\n",
    "            sucursal.prestamos.append(Prestamo(usuario, material))\n",
    "        else:\n",
    "            print(f\"{material.titulo} no está disponible para préstamo.\")\n"
   ]
  },
  {
   "cell_type": "code",
   "execution_count": 19,
   "metadata": {},
   "outputs": [],
   "source": [
    "# Sucursal\n",
    "class Sucursal:\n",
    "    def __init__(self, nombre):\n",
    "        self.nombre = nombre\n",
    "        self.catalogo = Catálogo()\n",
    "        self.prestamos = []\n"
   ]
  },
  {
   "cell_type": "code",
   "execution_count": 20,
   "metadata": {},
   "outputs": [],
   "source": [
    "# Préstamo\n",
    "class Prestamo:\n",
    "    def __init__(self, usuario, material):\n",
    "        self.usuario = usuario\n",
    "        self.material = material\n",
    "        self.fecha_prestamo = \"2025-02-10\"  # Puede ser un valor fijo o calculado\n",
    "        self.fecha_devolucion = \"2025-02-17\"  # Fecha para devolver el material\n"
   ]
  },
  {
   "cell_type": "code",
   "execution_count": 21,
   "metadata": {},
   "outputs": [],
   "source": [
    "# Penalización\n",
    "class Penalizacion:\n",
    "    def __init__(self, usuario, monto):\n",
    "        self.usuario = usuario\n",
    "        self.monto = monto\n",
    "\n",
    "    def aplicar_penalizacion(self):\n",
    "        print(f\"Se ha aplicado una penalización de ${self.monto} a {self.usuario.nombre}.\")\n",
    "        self.usuario.penalizaciones.append(self)\n"
   ]
  },
  {
   "cell_type": "code",
   "execution_count": 22,
   "metadata": {},
   "outputs": [],
   "source": [
    "# Catálogo\n",
    "class Catálogo:\n",
    "    def __init__(self):\n",
    "        self.materiales = []\n",
    "    \n",
    "    def agregar_material(self, material):\n",
    "        self.materiales.append(material)\n",
    "        print(f\"Se ha agregado {material.titulo} al catálogo.\")\n",
    "    \n",
    "    def buscar_materiales(self, autor=None, genero=None, tipo=None):\n",
    "        resultados = []\n",
    "        for material in self.materiales:\n",
    "            if isinstance(material, Libro) and autor and material.autor == autor:\n",
    "                resultados.append(material)\n",
    "            elif isinstance(material, Libro) and genero and material.genero == genero:\n",
    "                resultados.append(material)\n",
    "            elif isinstance(material, Revista) and tipo and material.periodicidad == tipo:\n",
    "                resultados.append(material)\n",
    "            elif isinstance(material, MaterialDigital) and tipo and material.tipo_archivo == tipo:\n",
    "                resultados.append(material)\n",
    "        \n",
    "        return resultados\n"
   ]
  },
  {
   "cell_type": "code",
   "execution_count": 23,
   "metadata": {},
   "outputs": [
    {
     "name": "stdout",
     "output_type": "stream",
     "text": [
      "Se ha agregado Cien años de soledad al catálogo.\n",
      "Juan Pérez ha agregado Cien años de soledad a la sucursal Sucursal Centro.\n",
      "Se ha agregado National Geographic al catálogo.\n",
      "Juan Pérez ha agregado National Geographic a la sucursal Sucursal Centro.\n",
      "Se ha agregado Curso de Python al catálogo.\n",
      "Juan Pérez ha agregado Curso de Python a la sucursal Sucursal Centro.\n",
      "Juan Pérez ha prestado Cien años de soledad a Ana Gómez.\n",
      "[]\n",
      "Ana Gómez ha devuelto Cien años de soledad.\n",
      "Se ha aplicado una penalización de $5 a Ana Gómez.\n"
     ]
    }
   ],
   "source": [
    "# Crear objetos\n",
    "libro1 = Libro(\"Cien años de soledad\", \"Gabriel García Márquez\", \"Realismo mágico\")\n",
    "revista1 = Revista(\"National Geographic\", \"Edición 2025\", \"Mensual\")\n",
    "material_digital1 = MaterialDigital(\"Curso de Python\", \"PDF\", \"www.descarga.com\")\n",
    "\n",
    "# Crear sucursal y agregar materiales\n",
    "sucursal1 = Sucursal(\"Sucursal Centro\")\n",
    "bibliotecario1 = Bibliotecario(\"Juan Pérez\")\n",
    "bibliotecario1.agregar_material(libro1, sucursal1)\n",
    "bibliotecario1.agregar_material(revista1, sucursal1)\n",
    "bibliotecario1.agregar_material(material_digital1, sucursal1)\n",
    "\n",
    "# Crear usuario y préstamo\n",
    "usuario1 = Usuario(\"Ana Gómez\")\n",
    "bibliotecario1.gestionar_prestamo(usuario1, libro1, sucursal1)\n",
    "\n",
    "# Consultar catálogo\n",
    "print(usuario1.consultar_catalogo(sucursal1.catalogo))\n",
    "\n",
    "# Devolver material\n",
    "usuario1.devolver_material(libro1)\n",
    "\n",
    "# Aplicar penalización\n",
    "penalizacion = Penalizacion(usuario1, 5)\n",
    "penalizacion.aplicar_penalizacion()\n"
   ]
  }
 ],
 "metadata": {
  "kernelspec": {
   "display_name": "Python 3",
   "language": "python",
   "name": "python3"
  },
  "language_info": {
   "codemirror_mode": {
    "name": "ipython",
    "version": 3
   },
   "file_extension": ".py",
   "mimetype": "text/x-python",
   "name": "python",
   "nbconvert_exporter": "python",
   "pygments_lexer": "ipython3",
   "version": "3.13.2"
  }
 },
 "nbformat": 4,
 "nbformat_minor": 2
}
